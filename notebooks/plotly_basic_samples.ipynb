{
 "cells": [
  {
   "cell_type": "code",
   "execution_count": null,
   "id": "f86474b9",
   "metadata": {},
   "outputs": [],
   "source": [
    "import plotly.express as px"
   ]
  },
  {
   "cell_type": "code",
   "execution_count": null,
   "id": "361a699e",
   "metadata": {},
   "outputs": [],
   "source": [
    "df = px.data.gapminder().query(\"year==2007\")\n",
    "df"
   ]
  },
  {
   "cell_type": "code",
   "execution_count": null,
   "id": "ae79f2b8",
   "metadata": {},
   "outputs": [],
   "source": [
    "px.strip(df, x = 'lifeExp', color='continent', hover_name='country')"
   ]
  },
  {
   "cell_type": "code",
   "execution_count": null,
   "id": "685b34eb",
   "metadata": {},
   "outputs": [],
   "source": [
    "px.histogram(df, x = 'lifeExp', color='continent', hover_name='country', marginal='rug')"
   ]
  },
  {
   "cell_type": "code",
   "execution_count": null,
   "id": "9d3fa3ad",
   "metadata": {},
   "outputs": [],
   "source": [
    "px.histogram(df, x = 'lifeExp', y = 'pop', color='continent', hover_name='country', marginal='rug')"
   ]
  },
  {
   "cell_type": "code",
   "execution_count": null,
   "id": "0849cda7",
   "metadata": {},
   "outputs": [],
   "source": [
    "px.histogram(df, x = 'lifeExp', y = 'pop', color='continent', hover_name='country', marginal='rug', facet_col='continent')"
   ]
  },
  {
   "cell_type": "code",
   "execution_count": null,
   "id": "1c5e50ee",
   "metadata": {},
   "outputs": [],
   "source": [
    "px.bar(df, color='lifeExp', x='pop', y='continent', hover_name='country')"
   ]
  },
  {
   "cell_type": "code",
   "execution_count": null,
   "id": "901de8f7",
   "metadata": {},
   "outputs": [],
   "source": [
    "px.sunburst(df, color='lifeExp', values='pop', path=['continent', 'country'] , hover_name='country', height=500)"
   ]
  },
  {
   "cell_type": "code",
   "execution_count": null,
   "id": "c78cda55",
   "metadata": {},
   "outputs": [],
   "source": [
    "px.treemap(df, color='lifeExp', values='pop', path=['continent', 'country'] , hover_name='country', height=500)"
   ]
  },
  {
   "cell_type": "code",
   "execution_count": null,
   "id": "ab2a4b1e",
   "metadata": {},
   "outputs": [],
   "source": [
    "px.choropleth(df, color='lifeExp', locations='iso_alpha', hover_name='country', height=500)"
   ]
  },
  {
   "cell_type": "code",
   "execution_count": null,
   "id": "d2b87053",
   "metadata": {},
   "outputs": [],
   "source": [
    "px.scatter(df, x = 'gdpPercap', y = 'lifeExp', hover_name='country', height = 500)"
   ]
  },
  {
   "cell_type": "code",
   "execution_count": null,
   "id": "af0eee88",
   "metadata": {},
   "outputs": [],
   "source": [
    "px.scatter(df, x = 'gdpPercap', y = 'lifeExp', hover_name='country', color = 'continent', size = 'pop', size_max = 60, log_x = True, height = 500)"
   ]
  },
  {
   "cell_type": "code",
   "execution_count": null,
   "id": "d2190fd3",
   "metadata": {},
   "outputs": [],
   "source": [
    "fig = px.scatter(df, x = 'gdpPercap', y = 'lifeExp', hover_name='country', color = 'continent', size = 'pop', size_max = 60, log_x = True, height = 500)"
   ]
  },
  {
   "cell_type": "code",
   "execution_count": null,
   "id": "a1c90ef2",
   "metadata": {},
   "outputs": [],
   "source": [
    "fig.show('json')"
   ]
  },
  {
   "cell_type": "markdown",
   "id": "b1c8a751",
   "metadata": {},
   "source": [
    "## Dash"
   ]
  },
  {
   "cell_type": "code",
   "execution_count": null,
   "id": "31bae76a",
   "metadata": {},
   "outputs": [],
   "source": []
  }
 ],
 "metadata": {
  "kernelspec": {
   "display_name": ".venv",
   "language": "python",
   "name": "python3"
  },
  "language_info": {
   "codemirror_mode": {
    "name": "ipython",
    "version": 3
   },
   "file_extension": ".py",
   "mimetype": "text/x-python",
   "name": "python",
   "nbconvert_exporter": "python",
   "pygments_lexer": "ipython3",
   "version": "3.12.10"
  }
 },
 "nbformat": 4,
 "nbformat_minor": 5
}
